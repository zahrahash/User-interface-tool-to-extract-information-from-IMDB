{
 "cells": [
  {
   "cell_type": "code",
   "execution_count": 1,
   "metadata": {},
   "outputs": [],
   "source": [
    "\n",
    "from selenium.webdriver.support.ui import WebDriverWait\n",
    "from selenium.webdriver.common.by import By\n",
    "from selenium.webdriver.support import expected_conditions as EC\n",
    "from bs4 import BeautifulSoup as bs\n",
    "import pandas as pd\n",
    "import time\n",
    "from selenium import webdriver\n",
    "from webdriver_manager.chrome import ChromeDriverManager\n",
    "from selenium.webdriver.chrome.service import Service"
   ]
  },
  {
   "cell_type": "code",
   "execution_count": 2,
   "metadata": {},
   "outputs": [],
   "source": [
    "path = \"E:/Virtual environment/Recommender_Systems/ml-latest-small/\"\n",
    "links = pd.read_csv(path + 'links.csv')\n",
    "URLs = links['imdbId']"
   ]
  },
  {
   "cell_type": "code",
   "execution_count": 3,
   "metadata": {},
   "outputs": [],
   "source": [
    "search_string = \"https://www.imdb.com/title/tt0\"\n",
    "IMDBS = URLs.values.tolist()\n",
    "URL_list = []\n",
    "\n",
    "for i in IMDBS:\n",
    "    i = str(i)\n",
    "    final_URL = search_string + i + \"/\"\n",
    "    URL_list.append(final_URL)"
   ]
  },
  {
   "cell_type": "code",
   "execution_count": 4,
   "metadata": {},
   "outputs": [],
   "source": [
    "URLS = URL_list[0:500]"
   ]
  },
  {
   "cell_type": "code",
   "execution_count": 5,
   "metadata": {},
   "outputs": [],
   "source": [
    "\n",
    "service = Service(ChromeDriverManager().install())\n",
    "\n",
    "# create the driver instance\n",
    "driver = webdriver.Chrome(service=service)\n",
    "\n",
    "# Define a function to scrape user reviews and movie title for a given URL\n",
    "def scrape_reviews(url):\n",
    "    # Load the URL in the Chrome webdriver\n",
    "    driver.get(url)\n",
    "    # Extract the movie title from the webpage\n",
    "    content = driver.page_source\n",
    "    soup = bs(content, 'html.parser')\n",
    "    title_elem = soup.find('h1')\n",
    "    \n",
    "    if title_elem:\n",
    "        title = title_elem.text.strip()\n",
    "    else:\n",
    "        title = ''\n",
    "    # Wait for the user review button to be clickable and click it\n",
    "    user_review_button = WebDriverWait(driver, 10).until(EC.element_to_be_clickable((By.LINK_TEXT, 'User reviews')))\n",
    "    user_review_button.click()\n",
    "    # Wait for the reviews to load using an explicit wait\n",
    "    try:\n",
    "        load_more_button = WebDriverWait(driver, 10).until(EC.visibility_of_element_located((By.ID, 'load-more-trigger')))\n",
    "        while True:\n",
    "            load_more_button.click() \n",
    "            time.sleep(2) # Wait for new reviews to load\n",
    "            load_more_button = WebDriverWait(driver, 10).until(EC.visibility_of_element_located((By.ID, 'load-more-trigger')))\n",
    "    except:\n",
    "        pass\n",
    "    # Extract the reviews using BeautifulSoup\n",
    "    content = driver.page_source\n",
    "    soup = bs(content, 'html.parser')\n",
    "    reviews = soup.find_all('div', class_='text show-more__control')\n",
    "    user_reviews = [review.text.strip() for review in reviews]\n",
    "    # Return the movie title and list of reviews\n",
    "    return title, user_reviews\n",
    "\n",
    "# Iterate over each URL and scrape the data\n",
    "data = []\n",
    "for url in URLS:\n",
    "    try:\n",
    "        # Scrape the movie title and reviews for the URL\n",
    "        title, user_reviews = scrape_reviews(url)\n",
    "        # Append the title and reviews for this URL to the data list\n",
    "        data.append({'Title': title, 'User Reviews': user_reviews})\n",
    "    except Exception as e:\n",
    "        print(f\"Error occurred while scraping data from {url}: {e}\")\n",
    "\n",
    "# Create a DataFrame from the data list and save it to a CSV file\n",
    "df = pd.DataFrame(data)\n",
    "\n",
    "# Quit the Chrome webdriver\n",
    "try:\n",
    "    driver.quit()\n",
    "except:\n",
    "    pass\n"
   ]
  },
  {
   "cell_type": "code",
   "execution_count": 16,
   "metadata": {},
   "outputs": [
    {
     "data": {
      "text/html": [
       "<div>\n",
       "<style scoped>\n",
       "    .dataframe tbody tr th:only-of-type {\n",
       "        vertical-align: middle;\n",
       "    }\n",
       "\n",
       "    .dataframe tbody tr th {\n",
       "        vertical-align: top;\n",
       "    }\n",
       "\n",
       "    .dataframe thead th {\n",
       "        text-align: right;\n",
       "    }\n",
       "</style>\n",
       "<table border=\"1\" class=\"dataframe\">\n",
       "  <thead>\n",
       "    <tr style=\"text-align: right;\">\n",
       "      <th></th>\n",
       "      <th>Title</th>\n",
       "      <th>User Reviews</th>\n",
       "    </tr>\n",
       "  </thead>\n",
       "  <tbody>\n",
       "    <tr>\n",
       "      <th>0</th>\n",
       "      <td>Toy Story</td>\n",
       "      <td>[Toy Story – 5/5 starsChildren play with toys....</td>\n",
       "    </tr>\n",
       "    <tr>\n",
       "      <th>1</th>\n",
       "      <td>Jumanji</td>\n",
       "      <td>[You know the drill: young Alan Parrish gets s...</td>\n",
       "    </tr>\n",
       "  </tbody>\n",
       "</table>\n",
       "</div>"
      ],
      "text/plain": [
       "       Title                                       User Reviews\n",
       "0  Toy Story  [Toy Story – 5/5 starsChildren play with toys....\n",
       "1    Jumanji  [You know the drill: young Alan Parrish gets s..."
      ]
     },
     "execution_count": 16,
     "metadata": {},
     "output_type": "execute_result"
    }
   ],
   "source": [
    "df"
   ]
  },
  {
   "cell_type": "code",
   "execution_count": 8,
   "metadata": {},
   "outputs": [],
   "source": [
    "# x = pd.read_csv(\"x.csv\")\n",
    "# z = df.copy()\n",
    "# a = pd.concat([x, z], axis=0)\n",
    "# a = a.reset_index().drop(columns=['index'])\n",
    "# a"
   ]
  },
  {
   "cell_type": "code",
   "execution_count": 9,
   "metadata": {},
   "outputs": [],
   "source": [
    "df.to_csv('x.csv', index=False, sep=',')"
   ]
  },
  {
   "cell_type": "code",
   "execution_count": 10,
   "metadata": {},
   "outputs": [],
   "source": [
    "# y = pd.read_csv(\"User_reviews_300to400.csv\")\n",
    "# y"
   ]
  },
  {
   "cell_type": "code",
   "execution_count": 11,
   "metadata": {},
   "outputs": [],
   "source": [
    "# da = y.explode('User Reviews')\n",
    "\n",
    "# da.to_csv('All_user_reviews_300to400.csv', index=False)"
   ]
  },
  {
   "cell_type": "code",
   "execution_count": 12,
   "metadata": {},
   "outputs": [
    {
     "data": {
      "text/html": [
       "<div>\n",
       "<style scoped>\n",
       "    .dataframe tbody tr th:only-of-type {\n",
       "        vertical-align: middle;\n",
       "    }\n",
       "\n",
       "    .dataframe tbody tr th {\n",
       "        vertical-align: top;\n",
       "    }\n",
       "\n",
       "    .dataframe thead th {\n",
       "        text-align: right;\n",
       "    }\n",
       "</style>\n",
       "<table border=\"1\" class=\"dataframe\">\n",
       "  <thead>\n",
       "    <tr style=\"text-align: right;\">\n",
       "      <th></th>\n",
       "      <th>Title</th>\n",
       "      <th>User Reviews</th>\n",
       "    </tr>\n",
       "  </thead>\n",
       "  <tbody>\n",
       "    <tr>\n",
       "      <th>0</th>\n",
       "      <td>Toy Story</td>\n",
       "      <td>[\"Toy Story – 5/5 starsChildren play with toys...</td>\n",
       "    </tr>\n",
       "    <tr>\n",
       "      <th>1</th>\n",
       "      <td>Jumanji</td>\n",
       "      <td>['You know the drill: young Alan Parrish gets ...</td>\n",
       "    </tr>\n",
       "  </tbody>\n",
       "</table>\n",
       "</div>"
      ],
      "text/plain": [
       "       Title                                       User Reviews\n",
       "0  Toy Story  [\"Toy Story – 5/5 starsChildren play with toys...\n",
       "1    Jumanji  ['You know the drill: young Alan Parrish gets ..."
      ]
     },
     "execution_count": 12,
     "metadata": {},
     "output_type": "execute_result"
    }
   ],
   "source": [
    "w = pd.read_csv(\"x.csv\")\n",
    "w"
   ]
  }
 ],
 "metadata": {
  "kernelspec": {
   "display_name": "Python 3",
   "language": "python",
   "name": "python3"
  },
  "language_info": {
   "codemirror_mode": {
    "name": "ipython",
    "version": 3
   },
   "file_extension": ".py",
   "mimetype": "text/x-python",
   "name": "python",
   "nbconvert_exporter": "python",
   "pygments_lexer": "ipython3",
   "version": "3.8.0"
  },
  "orig_nbformat": 4
 },
 "nbformat": 4,
 "nbformat_minor": 2
}
